{
  "nbformat": 4,
  "nbformat_minor": 0,
  "metadata": {
    "colab": {
      "name": "IA Notebook - Pix2Pix",
      "provenance": [],
      "collapsed_sections": [],
      "toc_visible": true,
      "mount_file_id": "1tX3ooGSqy_IF9GOMG7x7PzQZLqwM0mdG",
      "authorship_tag": "ABX9TyPzs/kjoIZa8DT4Sqd/Jh9i",
      "include_colab_link": true
    },
    "kernelspec": {
      "name": "python3",
      "display_name": "Python 3"
    },
    "accelerator": "GPU"
  },
  "cells": [
    {
      "cell_type": "markdown",
      "metadata": {
        "id": "view-in-github",
        "colab_type": "text"
      },
      "source": [
        "<a href=\"https://colab.research.google.com/github/ftorres-10cero/Google-Colab-IA-Pix2Pix/blob/dev/IA_Notebook_Pix2Pix.ipynb\" target=\"_parent\"><img src=\"https://colab.research.google.com/assets/colab-badge.svg\" alt=\"Open In Colab\"/></a>"
      ]
    },
    {
      "cell_type": "markdown",
      "metadata": {
        "id": "8XtcqUAizL5q",
        "colab_type": "text"
      },
      "source": [
        "# Tutorial Dot CSV Pix2Pix con TensorFlow 2.0\n",
        "\n"
      ]
    },
    {
      "cell_type": "markdown",
      "metadata": {
        "id": "l76oEnaKOYxt",
        "colab_type": "text"
      },
      "source": [
        "# Introducción Pix2Pix\n",
        "\n",
        "* Tutorial de DotCSV: https://www.youtube.com/watch?v=YsrMGcgfETY\n",
        "* Paper: https://arxiv.org/pdf/1611.07004.pdf\n",
        "* Doc: https://www.tensorflow.org/tutorials/generative/pix2pix\n"
      ]
    },
    {
      "cell_type": "markdown",
      "metadata": {
        "id": "lqsturZ-NQIJ",
        "colab_type": "text"
      },
      "source": [
        "# Importación de dependencias y configuración del entorno\n",
        "\n",
        "https://www.youtube.com/watch?v=YsrMGcgfETY&t=1572s"
      ]
    },
    {
      "cell_type": "code",
      "metadata": {
        "id": "JEjz401wniec",
        "colab_type": "code",
        "outputId": "af212af3-100d-4c9e-c15d-a2c13c20f11a",
        "colab": {
          "base_uri": "https://localhost:8080/",
          "height": 34
        }
      },
      "source": [
        "# Activamos la versión de tensorflow que vamos a usar: 2.0\n",
        "%tensorflow_version 2.x"
      ],
      "execution_count": 1,
      "outputs": [
        {
          "output_type": "stream",
          "text": [
            "TensorFlow 2.x selected.\n"
          ],
          "name": "stdout"
        }
      ]
    },
    {
      "cell_type": "code",
      "metadata": {
        "id": "jRfB1Bp8dTSG",
        "colab_type": "code",
        "colab": {}
      },
      "source": [
        "# Realizamos las importaciones de librerias y declaramos las variables a usar\n",
        "\n",
        "import tensorflow as tf\n",
        "import matplotlib.pyplot as plt\n",
        "import numpy as np\n",
        "\n",
        "\n",
        "PATH = \"/content/drive/My Drive/pix2pix\"\n",
        "\n",
        "# Ruta de datos de entrada\n",
        "INPATH = PATH + '/in'\n",
        "# Ruta de datos de salida\n",
        "OUTPATH = PATH + '/out'\n",
        "# RUTA de los checkpoints\n",
        "CKPATH = PATH + '/checkpoints'\n",
        "\n",
        "imgurls = !ls -1 \"{INPATH}\"\n",
        "\n",
        "n = 50\n",
        "train_n = round(n * 0.80)\n",
        "\n",
        "# Listado randomizado\n",
        "randurls = np.copy(imgurls)\n",
        "\n",
        "np.random.seed(23)\n",
        "np.random.shuffle(randurls)\n",
        "\n",
        "# Partición train/test\n",
        "\n",
        "tr_urls = randurls[:train_n]\n",
        "ts_urls = randurls[train_n:n]\n",
        "\n",
        "## print(len(imgurls), len(tr_urls), len(ts_urls))"
      ],
      "execution_count": 0,
      "outputs": []
    },
    {
      "cell_type": "code",
      "metadata": {
        "id": "gD2JEaiYixxd",
        "colab_type": "code",
        "colab": {}
      },
      "source": [
        "# Declaramos las constantes que vamos a usar y definimos las funciones básicas\n",
        "\n",
        "IMG_WIDTH = 256\n",
        "IMG_HEIGHT = 256\n",
        "\n",
        "# Reescalar imágenes\n",
        "def resize(inimg, tgimg, height, width):\n",
        "\n",
        "  inimg = tf.image.resize(inimg, [height, width])\n",
        "  tgimg = tf.image.resize(tgimg, [height, width])\n",
        "\n",
        "  return inimg, tgimg\n",
        "\n",
        "# Normaliza el rango [-1, +1] la imagen\n",
        "def normalize(inimg, tgimg):\n",
        "  inimg = (inimg / 127.5) - 1\n",
        "  tgimg = (tgimg / 127.5) - 1\n",
        "\n",
        "  return inimg, tgimg\n",
        "\n",
        "# Aumentacion de datos : Rasdom Crop + Flip\n",
        "def random_jitter(inimg, tgimg):\n",
        "\n",
        "  inimg, tgimg = resize(inimg, tgimg, 286, 286)\n",
        "\n",
        "  stacked_image = tf.stack([inimg, tgimg], axis=0)\n",
        "  cropped_image = tf.image.random_crop(stacked_image, size=[2, IMG_HEIGHT, IMG_WIDTH,3])\n",
        "\n",
        "  inimg, tgimg = cropped_image[0], cropped_image[1]\n",
        "\n",
        "  if tf.random.uniform(()) > 0.5:\n",
        "\n",
        "    inimg = tf.image.flip_left_right(inimg)\n",
        "    tgimg = tf.image.flip_left_right(tgimg)\n",
        "\n",
        "  return inimg, tgimg  \n",
        "\n",
        "# Carga de imagenes\n",
        "def load_image(filename, augment=False):\n",
        "\n",
        "  inimg = tf.cast(tf.image.decode_jpeg(tf.io.read_file(INPATH + '/' + filename)), tf.float32)[..., :3]\n",
        "  tgimg = tf.cast(tf.image.decode_jpeg(tf.io.read_file(OUTPATH + '/' + filename)), tf.float32)[..., :3]  \n",
        "\n",
        "  inimg, tgimg = resize(inimg, tgimg, IMG_HEIGHT, IMG_WIDTH)\n",
        "\n",
        "  if augment:\n",
        "    inimg, tgimg = random_jitter(inimg, tgimg)\n",
        "\n",
        "  inimg, tgimg = normalize(inimg, tgimg)\n",
        "\n",
        "  return inimg, tgimg\n",
        "\n",
        "\n",
        "def load_train_image(filename):\n",
        "  return load_image(filename, True)\n",
        "\n",
        "def load_test_image(filename):\n",
        "  return load_image(filename, False)\n",
        "\n",
        "# Vemos la primera imagen del listado para ver que todo va bien\n",
        "## plt.imshow(load_train_image(randurls[0])[0]+1/2)"
      ],
      "execution_count": 0,
      "outputs": []
    },
    {
      "cell_type": "code",
      "metadata": {
        "id": "N8I_lrQQpHIp",
        "colab_type": "code",
        "colab": {}
      },
      "source": [
        "# Cargamos los dataset con los listados de imágenes de entrenamiento y test\n",
        "\n",
        "train_dataset = tf.data.Dataset.from_tensor_slices(tr_urls)\n",
        "train_dataset = train_dataset.map(load_train_image, num_parallel_calls = tf.data.experimental.AUTOTUNE)\n",
        "train_dataset = train_dataset.batch(1)\n",
        "\n",
        "# Visualización de lotes de imágenes\n",
        "##for inimg, tgimg in train_dataset.take(5):\n",
        "##  print(tgimg.shape)\n",
        "##  plt.imshow(((tgimg[0,...])+1)/2)\n",
        "##  plt.show()\n",
        "\n",
        "test_dataset = tf.data.Dataset.from_tensor_slices(tr_urls)\n",
        "test_dataset = test_dataset.map(load_test_image, num_parallel_calls =tf.data.experimental.AUTOTUNE)\n",
        "test_dataset = test_dataset.batch(1)\n"
      ],
      "execution_count": 0,
      "outputs": []
    },
    {
      "cell_type": "code",
      "metadata": {
        "id": "M-bqw-k3rUey",
        "colab_type": "code",
        "outputId": "ee56bbf9-e7e8-449b-ce9b-b88a30a4a784",
        "colab": {
          "base_uri": "https://localhost:8080/",
          "height": 34
        }
      },
      "source": [
        "# DISEÑO PIX2PIX\n",
        "\n",
        "# Doc Tensorflow - Pix2Pix + Código\n",
        "# Paper + Info Pix2Pix: https://www.tensorflow.org/tutorials/generative/pix2pix\n",
        "\n",
        "from tensorflow.keras import *\n",
        "from tensorflow.keras.layers import *\n",
        "\n",
        "def downsample(filters, apply_batchnorm=True):\n",
        "\n",
        "  result = Sequential()\n",
        "\n",
        "  initializer = tf.random_normal_initializer(0,0.2)\n",
        "\n",
        "  # Capa convolacional\n",
        "  result.add(Conv2D(filters,\n",
        "                    kernel_size = 4,\n",
        "                    strides=2,\n",
        "                    padding=\"same\",\n",
        "                    kernel_initializer=initializer,\n",
        "                    use_bias=not apply_batchnorm))\n",
        "\n",
        "  if apply_batchnorm:\n",
        "    # Capa de BatchNorm\n",
        "    result.add(BatchNormalization())\n",
        "\n",
        "  # Capa de activación LeackyReLU\n",
        "  result.add(LeakyReLU())\n",
        "\n",
        "  return result\n",
        "\n",
        "## downsample(64)  \n",
        "\n",
        "def upsample(filters, apply_dropout=False):\n",
        "\n",
        "  result = Sequential()\n",
        "\n",
        "  initializer = tf.random_normal_initializer(0,0.2)\n",
        "\n",
        "  # Capa convolacional\n",
        "  result.add(Conv2DTranspose(filters,\n",
        "                    kernel_size = 4,\n",
        "                    strides=2,\n",
        "                    padding=\"same\",\n",
        "                    kernel_initializer=initializer,\n",
        "                    use_bias=False))\n",
        "\n",
        "  if apply_dropout:\n",
        "    # Capa de Dropout\n",
        "    result.add(Dropout(0.5))\n",
        "\n",
        "  # Capa de activación LeackyReLU\n",
        "  result.add(ReLU())\n",
        "\n",
        "  return result\n",
        "\n",
        "upsample(64)  \n",
        "\n",
        " "
      ],
      "execution_count": 5,
      "outputs": [
        {
          "output_type": "execute_result",
          "data": {
            "text/plain": [
              "<tensorflow.python.keras.engine.sequential.Sequential at 0x7f3d20130048>"
            ]
          },
          "metadata": {
            "tags": []
          },
          "execution_count": 5
        }
      ]
    },
    {
      "cell_type": "markdown",
      "metadata": {
        "id": "ft-YFbanOpRa",
        "colab_type": "text"
      },
      "source": [
        "# Diseño de modelo Pix2Pix\n",
        "\n",
        "* https://www.youtube.com/watch?v=YsrMGcgfETY&t=2680s\n",
        "\n",
        "Estructura de red:\n",
        "\n",
        "* Encoder: C64-C128-C256-C512-C512-C512-C512\n",
        "* Decoder: CD512-CD512-CD512-C512-C256-C128-C64\n"
      ]
    },
    {
      "cell_type": "code",
      "metadata": {
        "id": "fo9ULtqNMv8a",
        "colab_type": "code",
        "colab": {}
      },
      "source": [
        "# Definión de la estructura U-net\n",
        "\n",
        "def Generator():\n",
        "\n",
        "  inputs = tf.keras.layers.Input(shape=[None,None,3])\n",
        "\n",
        "  # Definimos las capas del Encoder\n",
        "  down_stack = [\n",
        "     downsample(64, apply_batchnorm=False),   # (bs, 128, 128, 64)\n",
        "     downsample(128),                         # (bs, 64, 64, 128)\n",
        "     downsample(256),                         # (bs, 32, 32, 256)\n",
        "     downsample(512),                         # (bs, 16, 16, 512)\n",
        "     downsample(512),                         # (bs, 8, 8, 512)\n",
        "     downsample(512),                         # (bs, 4, 4, 512)\n",
        "     downsample(512),                         # (bs, 2, 2, 512)\n",
        "     downsample(512),                         # (bs, 1, 1, 512)\n",
        "  ]\n",
        "\n",
        "  # Definimos las capas del Decoder\n",
        "  up_stack = [\n",
        "     upsample(512, apply_dropout=True),       # (bs, 2, 2, 1024)\n",
        "     upsample(512, apply_dropout=True),       # (bs, 4, 4, 1024)\n",
        "     upsample(512, apply_dropout=True),       # (bs, 8, 8, 1024)\n",
        "     upsample(512),                           # (bs, 16, 16, 1024)\n",
        "     upsample(256),                           # (bs, 32, 32, 512)\n",
        "     upsample(128),                           # (bs, 64, 64, 256)\n",
        "     upsample(64),                            # (bs, 128, 128, 128)\n",
        "  ]\n",
        "\n",
        "  initializer = tf.random_normal_initializer(0, 0.2)\n",
        "\n",
        "  last = Conv2DTranspose(filters =3,\n",
        "                         kernel_size = 4,\n",
        "                         strides = 2,\n",
        "                         padding = \"same\",\n",
        "                         kernel_initializer = initializer,\n",
        "                         activation = \"tanh\")\n",
        "  \n",
        "  # Conectamos todas las capas\n",
        "\n",
        "  # Estructura Hourglass\n",
        "\n",
        "  ##  x = inputs\n",
        "\n",
        "  ##  for down in down_stack:\n",
        "  ##    x = down(x)\n",
        "\n",
        "  ##  for up in up_stack:\n",
        "  ##    x = up(x)\n",
        "\n",
        "  ##  return last(x)  \n",
        "\n",
        "\n",
        "  # Estructura U-net (con skip connections)\n",
        "\n",
        "  x = inputs\n",
        "  s = []\n",
        "  concat = Concatenate()\n",
        "\n",
        "  for down in down_stack:\n",
        "    x = down(x)\n",
        "    s.append(x)   # Almacenamos los resultados de cada capa\n",
        "\n",
        "  s = reversed(s[:-1])  # Invertimos la lista de resultados\n",
        "\n",
        "  for up, sk in zip(up_stack,s): # Ultilizamos una cremallera para extraer ambos elementos en paralelo\n",
        "    x = up(x)\n",
        "    x = concat([x,sk])\n",
        "\n",
        "  last = last(x)  \n",
        "\n",
        "  return Model(inputs=inputs, outputs=last)\n",
        "\n",
        "generator = Generator()\n",
        "\n",
        "## Probamos el generador\n",
        "##gen_output = generator(((inimg+1)*255), training=false)\n",
        "##plt.imgshow(gen_output[0,...])\n",
        "\n"
      ],
      "execution_count": 0,
      "outputs": []
    },
    {
      "cell_type": "markdown",
      "metadata": {
        "id": "wHPijptWTpCs",
        "colab_type": "text"
      },
      "source": [
        "# Configuración PatchGan\n",
        "\n",
        "* https://www.youtube.com/watch?v=YsrMGcgfETY?t=4364  1:12:44\n"
      ]
    },
    {
      "cell_type": "code",
      "metadata": {
        "id": "XLCaaax4UsUf",
        "colab_type": "code",
        "colab": {}
      },
      "source": [
        "# Definión del discriminador\n",
        "\n",
        "def Discriminator():\n",
        "\n",
        "  ini = Input(shape=[None, None,3], name=\"input_img\")\n",
        "  gen = Input(shape=[None, None,3], name=\"gener_img\")\n",
        "\n",
        "  con = concatenate([ini, gen])\n",
        "\n",
        "  initializer = tf.random_normal_initializer(0, 0.2)\n",
        "\n",
        "  down1 = downsample(64, apply_batchnorm=False)(con)\n",
        "  down2 = downsample(128)(down1)\n",
        "  down3 = downsample(128)(down2)\n",
        "  down4 = downsample(128)(down3)\n",
        "\n",
        "  last = tf.keras.layers.Conv2D(filters =1,\n",
        "                         kernel_size = 4,\n",
        "                         strides = 1,\n",
        "                         padding = \"same\",\n",
        "                         kernel_initializer = initializer)(down4)\n",
        "\n",
        "  return tf.keras.Model(inputs=[ini,gen], outputs=last)\n",
        "\n",
        "discriminator = Discriminator()  \n",
        "\n",
        "## Probamos el generador\n",
        "## disc_out = discriminator([((inimg+1)*255), gen_output], training=False)\n",
        "## ply.imshow(disc_out[0,...,-1], vmin=-20, vmax=20, cmap='RdBu_r')\n",
        "## plt.colorbar()\n",
        "## disc_out.shapek\n"
      ],
      "execution_count": 0,
      "outputs": []
    },
    {
      "cell_type": "markdown",
      "metadata": {
        "id": "JFPQsCUvTmvR",
        "colab_type": "text"
      },
      "source": [
        "# Definición de función de Coste Adversaria\n",
        "* https://www.youtube.com/watch?v=YsrMGcgfETY?t=4814s 1:20:22"
      ]
    },
    {
      "cell_type": "code",
      "metadata": {
        "id": "qEV713BIXgmg",
        "colab_type": "code",
        "colab": {}
      },
      "source": [
        "loss_object = tf.keras.losses.BinaryCrossentropy(from_logits=True)\n"
      ],
      "execution_count": 0,
      "outputs": []
    },
    {
      "cell_type": "code",
      "metadata": {
        "id": "R0yvuiu4pSjR",
        "colab_type": "code",
        "colab": {}
      },
      "source": [
        "def discriminator_loss(disc_real_output, disc_generated_output):\n",
        "\n",
        "  # Diferencia entre los true por ser real y el detectado por el discriminador.\n",
        "  real_loss = loss_object(tf.ones_like(disc_real_output), disc_real_output)\n",
        "\n",
        "  # Diferencia entre los false por ser generado y el detectado por el discriminador.\n",
        "  generated_loss = loss_object(tf.zeros_like(disc_generated_output), disc_generated_output)\n",
        "\n",
        "  total_disc_loss = real_loss + generated_loss\n",
        "\n",
        "  return total_disc_loss"
      ],
      "execution_count": 0,
      "outputs": []
    },
    {
      "cell_type": "code",
      "metadata": {
        "id": "QS-S7FFPXOVh",
        "colab_type": "code",
        "colab": {}
      },
      "source": [
        "LAMBDA = 100\n",
        "\n",
        "def generator_loss(disc_generated_output, gen_output, target):\n",
        "\n",
        "  # Error adversario\n",
        "\n",
        "  gan_loss = loss_object(tf.ones_like(disc_generated_output), disc_generated_output)\n",
        "\n",
        "  # Error absoluto\n",
        "\n",
        "  l1_loss = tf.reduce_mean(tf.abs(target - gen_output)) # cálculo de media del absoluto de la diferencia\n",
        "\n",
        "  total_gen_loss = gan_loss + (LAMBDA * l1_loss)\n",
        "\n",
        "  return total_gen_loss\n"
      ],
      "execution_count": 0,
      "outputs": []
    },
    {
      "cell_type": "code",
      "metadata": {
        "id": "0u_ccjE4YIT3",
        "colab_type": "code",
        "colab": {}
      },
      "source": [
        "# Guardamos los checkpoints (estados de aprendizaje)\n",
        "\n",
        "import os\n",
        "\n",
        "generator_optimizer = tf.keras.optimizers.Adam(2e-4, beta_1=0.5)\n",
        "discriminator_optimizer = tf.keras.optimizers.Adam(2e-4, beta_1=0.5)\n",
        "\n",
        "checkpoint_prefix = os.path.join(CKPATH, \"ckpt\")\n",
        "\n",
        "# Guardamos los estados de nuestros aprendizajes\n",
        "checkpoint = tf.train.Checkpoint(generator_optimizer=generator_optimizer,\n",
        "                                 discriminator_optimizer=discriminator_optimizer,\n",
        "                                 generator=generator,\n",
        "                                 discriminator=discriminator)\n",
        "\n",
        "# Con la siguiente línea podemos rescatar el último checkpoint almacenado\n",
        "#checkpoint.restore(tf.train.latest_checkpoint(CKPATH)).assert_consumed()"
      ],
      "execution_count": 0,
      "outputs": []
    },
    {
      "cell_type": "code",
      "metadata": {
        "id": "9U4AAeDHiXSD",
        "colab_type": "code",
        "colab": {}
      },
      "source": [
        "def generate_images(model, test_input, tar, save_filename=False, display_imgs=True):\n",
        "\n",
        "  prediction = model(test_input, training=True)\n",
        "\n",
        "  if save_filename:\n",
        "    tf.keras.preprocessing.image.save_img(CKPATH + '/' + save_filename + '.jpg', prediction[0,...])\n",
        "\n",
        "  plt.figure(figsize=(10,10))\n",
        "\n",
        "  display_list = [test_input[0], tar[0], prediction[0]]\n",
        "  title = ['Input Image', 'Ground Truth', 'Predited Image']\n",
        "\n",
        "  if display_imgs:\n",
        "      for i in range(3):\n",
        "          plt.subplot(1, 3, i+1)\n",
        "          plt.title(title[i])\n",
        "\n",
        "          #getting the pixel values between [0,1] to plot it.\n",
        "          plt.imshow(display_list[i] * 0.5 + 0.5)\n",
        "          plt.axis('off')   \n",
        "\n",
        "  plt.show()    "
      ],
      "execution_count": 0,
      "outputs": []
    },
    {
      "cell_type": "code",
      "metadata": {
        "id": "estrLe0aohij",
        "colab_type": "code",
        "colab": {}
      },
      "source": [
        "@tf.function()\n",
        "def train_step(input_image, target):\n",
        "\n",
        "  with tf.GradientTape() as gen_tape, tf.GradientTape() as discr_tape:\n",
        "      \n",
        "    output_image = generator(input_image, training=True)\n",
        "\n",
        "    output_gen_discr = discriminator([output_image, input_image], training = True)\n",
        "\n",
        "    output_trg_discr = discriminator([target, input_image], training = True)\n",
        "\n",
        "    discr_loss = discriminator_loss(output_trg_discr,output_gen_discr)\n",
        "\n",
        "    gen_loss = generator_loss(output_gen_discr, output_image, target)\n",
        "\n",
        "    generator_grads = gen_tape.gradient(gen_loss, generator.trainable_variables)\n",
        "\n",
        "    discriminator_grads = discr_tape.gradient(discr_loss, discriminator.trainable_variables)\n",
        "\n",
        "    generator_optimizer.apply_gradients(zip(generator_grads, generator.trainable_variables))\n",
        "\n",
        "    discriminator_optimizer.apply_gradients(zip(discriminator_grads, discriminator.trainable_variables))"
      ],
      "execution_count": 0,
      "outputs": []
    },
    {
      "cell_type": "code",
      "metadata": {
        "id": "osCNvb6FlIfU",
        "colab_type": "code",
        "colab": {}
      },
      "source": [
        "from IPython.display import clear_output\n",
        "\n",
        "def train(dataset, epochs):\n",
        "  for epoch in range(epochs):\n",
        "\n",
        "    imgi = 0\n",
        "    for input_image, target in dataset:\n",
        "      print('epoch ' + str(epoch) + ' - train: ' + str(imgi) + '/' + str(len(tr_urls)))\n",
        "      imgi+=1\n",
        "      train_step(input_image, target)\n",
        "      generate_images(generator, input_image, target,  str(imgi) + '_' + str(epoch), display_imgs=True)\n",
        "\n",
        "#      clear_output(wait=True)\n",
        "    \n",
        "#    imgi = 0\n",
        "#    for inp, tar in test_dataset.take(5):\n",
        "#       generate_images(generator, inp, tar,  str(imgi) + '_' + str(epoch), display_imgs=True)\n",
        "#       imgi+=1\n",
        "\n",
        "    #saving (checkpoint) the model every 15 epochs\n",
        "    if (epoch +1) % 15 == 0:  \n",
        "      checkpoint.save(file_prefix = checkpoint_prefix)\n",
        "\n"
      ],
      "execution_count": 0,
      "outputs": []
    },
    {
      "cell_type": "code",
      "metadata": {
        "id": "vUTW9ZRBr3Nh",
        "colab_type": "code",
        "outputId": "dac7a226-0248-41b1-c95b-301509edc62a",
        "colab": {
          "base_uri": "https://localhost:8080/",
          "height": 460
        }
      },
      "source": [
        "train(train_dataset, 100)"
      ],
      "execution_count": 15,
      "outputs": [
        {
          "output_type": "error",
          "ename": "NotFoundError",
          "evalue": "ignored",
          "traceback": [
            "\u001b[0;31m---------------------------------------------------------------------------\u001b[0m",
            "\u001b[0;31mNotFoundError\u001b[0m                             Traceback (most recent call last)",
            "\u001b[0;32m/tensorflow-2.1.0/python3.6/tensorflow_core/python/eager/context.py\u001b[0m in \u001b[0;36mexecution_mode\u001b[0;34m(mode)\u001b[0m\n\u001b[1;32m   1896\u001b[0m     \u001b[0mctx\u001b[0m\u001b[0;34m.\u001b[0m\u001b[0mexecutor\u001b[0m \u001b[0;34m=\u001b[0m \u001b[0mexecutor_new\u001b[0m\u001b[0;34m\u001b[0m\u001b[0;34m\u001b[0m\u001b[0m\n\u001b[0;32m-> 1897\u001b[0;31m     \u001b[0;32myield\u001b[0m\u001b[0;34m\u001b[0m\u001b[0;34m\u001b[0m\u001b[0m\n\u001b[0m\u001b[1;32m   1898\u001b[0m   \u001b[0;32mfinally\u001b[0m\u001b[0;34m:\u001b[0m\u001b[0;34m\u001b[0m\u001b[0;34m\u001b[0m\u001b[0m\n",
            "\u001b[0;32m/tensorflow-2.1.0/python3.6/tensorflow_core/python/data/ops/iterator_ops.py\u001b[0m in \u001b[0;36m_next_internal\u001b[0;34m(self)\u001b[0m\n\u001b[1;32m    658\u001b[0m             \u001b[0moutput_types\u001b[0m\u001b[0;34m=\u001b[0m\u001b[0mself\u001b[0m\u001b[0;34m.\u001b[0m\u001b[0m_flat_output_types\u001b[0m\u001b[0;34m,\u001b[0m\u001b[0;34m\u001b[0m\u001b[0;34m\u001b[0m\u001b[0m\n\u001b[0;32m--> 659\u001b[0;31m             output_shapes=self._flat_output_shapes)\n\u001b[0m\u001b[1;32m    660\u001b[0m \u001b[0;34m\u001b[0m\u001b[0m\n",
            "\u001b[0;32m/tensorflow-2.1.0/python3.6/tensorflow_core/python/ops/gen_dataset_ops.py\u001b[0m in \u001b[0;36miterator_get_next_sync\u001b[0;34m(iterator, output_types, output_shapes, name)\u001b[0m\n\u001b[1;32m   2478\u001b[0m     \u001b[0;32mexcept\u001b[0m \u001b[0m_core\u001b[0m\u001b[0;34m.\u001b[0m\u001b[0m_NotOkStatusException\u001b[0m \u001b[0;32mas\u001b[0m \u001b[0me\u001b[0m\u001b[0;34m:\u001b[0m\u001b[0;34m\u001b[0m\u001b[0;34m\u001b[0m\u001b[0m\n\u001b[0;32m-> 2479\u001b[0;31m       \u001b[0m_ops\u001b[0m\u001b[0;34m.\u001b[0m\u001b[0mraise_from_not_ok_status\u001b[0m\u001b[0;34m(\u001b[0m\u001b[0me\u001b[0m\u001b[0;34m,\u001b[0m \u001b[0mname\u001b[0m\u001b[0;34m)\u001b[0m\u001b[0;34m\u001b[0m\u001b[0;34m\u001b[0m\u001b[0m\n\u001b[0m\u001b[1;32m   2480\u001b[0m   \u001b[0;31m# Add nodes to the TensorFlow graph.\u001b[0m\u001b[0;34m\u001b[0m\u001b[0;34m\u001b[0m\u001b[0;34m\u001b[0m\u001b[0m\n",
            "\u001b[0;32m/tensorflow-2.1.0/python3.6/tensorflow_core/python/framework/ops.py\u001b[0m in \u001b[0;36mraise_from_not_ok_status\u001b[0;34m(e, name)\u001b[0m\n\u001b[1;32m   6605\u001b[0m   \u001b[0;31m# pylint: disable=protected-access\u001b[0m\u001b[0;34m\u001b[0m\u001b[0;34m\u001b[0m\u001b[0;34m\u001b[0m\u001b[0m\n\u001b[0;32m-> 6606\u001b[0;31m   \u001b[0msix\u001b[0m\u001b[0;34m.\u001b[0m\u001b[0mraise_from\u001b[0m\u001b[0;34m(\u001b[0m\u001b[0mcore\u001b[0m\u001b[0;34m.\u001b[0m\u001b[0m_status_to_exception\u001b[0m\u001b[0;34m(\u001b[0m\u001b[0me\u001b[0m\u001b[0;34m.\u001b[0m\u001b[0mcode\u001b[0m\u001b[0;34m,\u001b[0m \u001b[0mmessage\u001b[0m\u001b[0;34m)\u001b[0m\u001b[0;34m,\u001b[0m \u001b[0;32mNone\u001b[0m\u001b[0;34m)\u001b[0m\u001b[0;34m\u001b[0m\u001b[0;34m\u001b[0m\u001b[0m\n\u001b[0m\u001b[1;32m   6607\u001b[0m   \u001b[0;31m# pylint: enable=protected-access\u001b[0m\u001b[0;34m\u001b[0m\u001b[0;34m\u001b[0m\u001b[0;34m\u001b[0m\u001b[0m\n",
            "\u001b[0;32m/usr/local/lib/python3.6/dist-packages/six.py\u001b[0m in \u001b[0;36mraise_from\u001b[0;34m(value, from_value)\u001b[0m\n",
            "\u001b[0;31mNotFoundError\u001b[0m: /content/drive/My Drive/pix2pix/in/ls: cannot open directory '/content/drive/My Drive/pix2pix/in': Input/output error; No such file or directory\n\t [[{{node ReadFile}}]] [Op:IteratorGetNextSync]",
            "\nDuring handling of the above exception, another exception occurred:\n",
            "\u001b[0;31mNotFoundError\u001b[0m                             Traceback (most recent call last)",
            "\u001b[0;32m<ipython-input-15-5df6ad43e660>\u001b[0m in \u001b[0;36m<module>\u001b[0;34m()\u001b[0m\n\u001b[0;32m----> 1\u001b[0;31m \u001b[0mtrain\u001b[0m\u001b[0;34m(\u001b[0m\u001b[0mtrain_dataset\u001b[0m\u001b[0;34m,\u001b[0m \u001b[0;36m100\u001b[0m\u001b[0;34m)\u001b[0m\u001b[0;34m\u001b[0m\u001b[0;34m\u001b[0m\u001b[0m\n\u001b[0m",
            "\u001b[0;32m<ipython-input-14-deb3b200c449>\u001b[0m in \u001b[0;36mtrain\u001b[0;34m(dataset, epochs)\u001b[0m\n\u001b[1;32m      5\u001b[0m \u001b[0;34m\u001b[0m\u001b[0m\n\u001b[1;32m      6\u001b[0m     \u001b[0mimgi\u001b[0m \u001b[0;34m=\u001b[0m \u001b[0;36m0\u001b[0m\u001b[0;34m\u001b[0m\u001b[0;34m\u001b[0m\u001b[0m\n\u001b[0;32m----> 7\u001b[0;31m     \u001b[0;32mfor\u001b[0m \u001b[0minput_image\u001b[0m\u001b[0;34m,\u001b[0m \u001b[0mtarget\u001b[0m \u001b[0;32min\u001b[0m \u001b[0mdataset\u001b[0m\u001b[0;34m:\u001b[0m\u001b[0;34m\u001b[0m\u001b[0;34m\u001b[0m\u001b[0m\n\u001b[0m\u001b[1;32m      8\u001b[0m       \u001b[0mprint\u001b[0m\u001b[0;34m(\u001b[0m\u001b[0;34m'epoch '\u001b[0m \u001b[0;34m+\u001b[0m \u001b[0mstr\u001b[0m\u001b[0;34m(\u001b[0m\u001b[0mepoch\u001b[0m\u001b[0;34m)\u001b[0m \u001b[0;34m+\u001b[0m \u001b[0;34m' - train: '\u001b[0m \u001b[0;34m+\u001b[0m \u001b[0mstr\u001b[0m\u001b[0;34m(\u001b[0m\u001b[0mimgi\u001b[0m\u001b[0;34m)\u001b[0m \u001b[0;34m+\u001b[0m \u001b[0;34m'/'\u001b[0m \u001b[0;34m+\u001b[0m \u001b[0mstr\u001b[0m\u001b[0;34m(\u001b[0m\u001b[0mlen\u001b[0m\u001b[0;34m(\u001b[0m\u001b[0mtr_urls\u001b[0m\u001b[0;34m)\u001b[0m\u001b[0;34m)\u001b[0m\u001b[0;34m)\u001b[0m\u001b[0;34m\u001b[0m\u001b[0;34m\u001b[0m\u001b[0m\n\u001b[1;32m      9\u001b[0m       \u001b[0mimgi\u001b[0m\u001b[0;34m+=\u001b[0m\u001b[0;36m1\u001b[0m\u001b[0;34m\u001b[0m\u001b[0;34m\u001b[0m\u001b[0m\n",
            "\u001b[0;32m/tensorflow-2.1.0/python3.6/tensorflow_core/python/data/ops/iterator_ops.py\u001b[0m in \u001b[0;36m__next__\u001b[0;34m(self)\u001b[0m\n\u001b[1;32m    628\u001b[0m \u001b[0;34m\u001b[0m\u001b[0m\n\u001b[1;32m    629\u001b[0m   \u001b[0;32mdef\u001b[0m \u001b[0m__next__\u001b[0m\u001b[0;34m(\u001b[0m\u001b[0mself\u001b[0m\u001b[0;34m)\u001b[0m\u001b[0;34m:\u001b[0m  \u001b[0;31m# For Python 3 compatibility\u001b[0m\u001b[0;34m\u001b[0m\u001b[0;34m\u001b[0m\u001b[0m\n\u001b[0;32m--> 630\u001b[0;31m     \u001b[0;32mreturn\u001b[0m \u001b[0mself\u001b[0m\u001b[0;34m.\u001b[0m\u001b[0mnext\u001b[0m\u001b[0;34m(\u001b[0m\u001b[0;34m)\u001b[0m\u001b[0;34m\u001b[0m\u001b[0;34m\u001b[0m\u001b[0m\n\u001b[0m\u001b[1;32m    631\u001b[0m \u001b[0;34m\u001b[0m\u001b[0m\n\u001b[1;32m    632\u001b[0m   \u001b[0;32mdef\u001b[0m \u001b[0m_next_internal\u001b[0m\u001b[0;34m(\u001b[0m\u001b[0mself\u001b[0m\u001b[0;34m)\u001b[0m\u001b[0;34m:\u001b[0m\u001b[0;34m\u001b[0m\u001b[0;34m\u001b[0m\u001b[0m\n",
            "\u001b[0;32m/tensorflow-2.1.0/python3.6/tensorflow_core/python/data/ops/iterator_ops.py\u001b[0m in \u001b[0;36mnext\u001b[0;34m(self)\u001b[0m\n\u001b[1;32m    672\u001b[0m     \u001b[0;34m\"\"\"Returns a nested structure of `Tensor`s containing the next element.\"\"\"\u001b[0m\u001b[0;34m\u001b[0m\u001b[0;34m\u001b[0m\u001b[0m\n\u001b[1;32m    673\u001b[0m     \u001b[0;32mtry\u001b[0m\u001b[0;34m:\u001b[0m\u001b[0;34m\u001b[0m\u001b[0;34m\u001b[0m\u001b[0m\n\u001b[0;32m--> 674\u001b[0;31m       \u001b[0;32mreturn\u001b[0m \u001b[0mself\u001b[0m\u001b[0;34m.\u001b[0m\u001b[0m_next_internal\u001b[0m\u001b[0;34m(\u001b[0m\u001b[0;34m)\u001b[0m\u001b[0;34m\u001b[0m\u001b[0;34m\u001b[0m\u001b[0m\n\u001b[0m\u001b[1;32m    675\u001b[0m     \u001b[0;32mexcept\u001b[0m \u001b[0merrors\u001b[0m\u001b[0;34m.\u001b[0m\u001b[0mOutOfRangeError\u001b[0m\u001b[0;34m:\u001b[0m\u001b[0;34m\u001b[0m\u001b[0;34m\u001b[0m\u001b[0m\n\u001b[1;32m    676\u001b[0m       \u001b[0;32mraise\u001b[0m \u001b[0mStopIteration\u001b[0m\u001b[0;34m\u001b[0m\u001b[0;34m\u001b[0m\u001b[0m\n",
            "\u001b[0;32m/tensorflow-2.1.0/python3.6/tensorflow_core/python/data/ops/iterator_ops.py\u001b[0m in \u001b[0;36m_next_internal\u001b[0;34m(self)\u001b[0m\n\u001b[1;32m    663\u001b[0m         \u001b[0;32mreturn\u001b[0m \u001b[0mself\u001b[0m\u001b[0;34m.\u001b[0m\u001b[0m_element_spec\u001b[0m\u001b[0;34m.\u001b[0m\u001b[0m_from_compatible_tensor_list\u001b[0m\u001b[0;34m(\u001b[0m\u001b[0mret\u001b[0m\u001b[0;34m)\u001b[0m  \u001b[0;31m# pylint: disable=protected-access\u001b[0m\u001b[0;34m\u001b[0m\u001b[0;34m\u001b[0m\u001b[0m\n\u001b[1;32m    664\u001b[0m       \u001b[0;32mexcept\u001b[0m \u001b[0mAttributeError\u001b[0m\u001b[0;34m:\u001b[0m\u001b[0;34m\u001b[0m\u001b[0;34m\u001b[0m\u001b[0m\n\u001b[0;32m--> 665\u001b[0;31m         \u001b[0;32mreturn\u001b[0m \u001b[0mstructure\u001b[0m\u001b[0;34m.\u001b[0m\u001b[0mfrom_compatible_tensor_list\u001b[0m\u001b[0;34m(\u001b[0m\u001b[0mself\u001b[0m\u001b[0;34m.\u001b[0m\u001b[0m_element_spec\u001b[0m\u001b[0;34m,\u001b[0m \u001b[0mret\u001b[0m\u001b[0;34m)\u001b[0m\u001b[0;34m\u001b[0m\u001b[0;34m\u001b[0m\u001b[0m\n\u001b[0m\u001b[1;32m    666\u001b[0m \u001b[0;34m\u001b[0m\u001b[0m\n\u001b[1;32m    667\u001b[0m   \u001b[0;34m@\u001b[0m\u001b[0mproperty\u001b[0m\u001b[0;34m\u001b[0m\u001b[0;34m\u001b[0m\u001b[0m\n",
            "\u001b[0;32m/usr/lib/python3.6/contextlib.py\u001b[0m in \u001b[0;36m__exit__\u001b[0;34m(self, type, value, traceback)\u001b[0m\n\u001b[1;32m     97\u001b[0m                 \u001b[0mvalue\u001b[0m \u001b[0;34m=\u001b[0m \u001b[0mtype\u001b[0m\u001b[0;34m(\u001b[0m\u001b[0;34m)\u001b[0m\u001b[0;34m\u001b[0m\u001b[0;34m\u001b[0m\u001b[0m\n\u001b[1;32m     98\u001b[0m             \u001b[0;32mtry\u001b[0m\u001b[0;34m:\u001b[0m\u001b[0;34m\u001b[0m\u001b[0;34m\u001b[0m\u001b[0m\n\u001b[0;32m---> 99\u001b[0;31m                 \u001b[0mself\u001b[0m\u001b[0;34m.\u001b[0m\u001b[0mgen\u001b[0m\u001b[0;34m.\u001b[0m\u001b[0mthrow\u001b[0m\u001b[0;34m(\u001b[0m\u001b[0mtype\u001b[0m\u001b[0;34m,\u001b[0m \u001b[0mvalue\u001b[0m\u001b[0;34m,\u001b[0m \u001b[0mtraceback\u001b[0m\u001b[0;34m)\u001b[0m\u001b[0;34m\u001b[0m\u001b[0;34m\u001b[0m\u001b[0m\n\u001b[0m\u001b[1;32m    100\u001b[0m             \u001b[0;32mexcept\u001b[0m \u001b[0mStopIteration\u001b[0m \u001b[0;32mas\u001b[0m \u001b[0mexc\u001b[0m\u001b[0;34m:\u001b[0m\u001b[0;34m\u001b[0m\u001b[0;34m\u001b[0m\u001b[0m\n\u001b[1;32m    101\u001b[0m                 \u001b[0;31m# Suppress StopIteration *unless* it's the same exception that\u001b[0m\u001b[0;34m\u001b[0m\u001b[0;34m\u001b[0m\u001b[0;34m\u001b[0m\u001b[0m\n",
            "\u001b[0;32m/tensorflow-2.1.0/python3.6/tensorflow_core/python/eager/context.py\u001b[0m in \u001b[0;36mexecution_mode\u001b[0;34m(mode)\u001b[0m\n\u001b[1;32m   1898\u001b[0m   \u001b[0;32mfinally\u001b[0m\u001b[0;34m:\u001b[0m\u001b[0;34m\u001b[0m\u001b[0;34m\u001b[0m\u001b[0m\n\u001b[1;32m   1899\u001b[0m     \u001b[0mctx\u001b[0m\u001b[0;34m.\u001b[0m\u001b[0mexecutor\u001b[0m \u001b[0;34m=\u001b[0m \u001b[0mexecutor_old\u001b[0m\u001b[0;34m\u001b[0m\u001b[0;34m\u001b[0m\u001b[0m\n\u001b[0;32m-> 1900\u001b[0;31m     \u001b[0mexecutor_new\u001b[0m\u001b[0;34m.\u001b[0m\u001b[0mwait\u001b[0m\u001b[0;34m(\u001b[0m\u001b[0;34m)\u001b[0m\u001b[0;34m\u001b[0m\u001b[0;34m\u001b[0m\u001b[0m\n\u001b[0m\u001b[1;32m   1901\u001b[0m \u001b[0;34m\u001b[0m\u001b[0m\n\u001b[1;32m   1902\u001b[0m \u001b[0;34m\u001b[0m\u001b[0m\n",
            "\u001b[0;32m/tensorflow-2.1.0/python3.6/tensorflow_core/python/eager/executor.py\u001b[0m in \u001b[0;36mwait\u001b[0;34m(self)\u001b[0m\n\u001b[1;32m     65\u001b[0m   \u001b[0;32mdef\u001b[0m \u001b[0mwait\u001b[0m\u001b[0;34m(\u001b[0m\u001b[0mself\u001b[0m\u001b[0;34m)\u001b[0m\u001b[0;34m:\u001b[0m\u001b[0;34m\u001b[0m\u001b[0;34m\u001b[0m\u001b[0m\n\u001b[1;32m     66\u001b[0m     \u001b[0;34m\"\"\"Waits for ops dispatched in this executor to finish.\"\"\"\u001b[0m\u001b[0;34m\u001b[0m\u001b[0;34m\u001b[0m\u001b[0m\n\u001b[0;32m---> 67\u001b[0;31m     \u001b[0mpywrap_tensorflow\u001b[0m\u001b[0;34m.\u001b[0m\u001b[0mTFE_ExecutorWaitForAllPendingNodes\u001b[0m\u001b[0;34m(\u001b[0m\u001b[0mself\u001b[0m\u001b[0;34m.\u001b[0m\u001b[0m_handle\u001b[0m\u001b[0;34m)\u001b[0m\u001b[0;34m\u001b[0m\u001b[0;34m\u001b[0m\u001b[0m\n\u001b[0m\u001b[1;32m     68\u001b[0m \u001b[0;34m\u001b[0m\u001b[0m\n\u001b[1;32m     69\u001b[0m   \u001b[0;32mdef\u001b[0m \u001b[0mclear_error\u001b[0m\u001b[0;34m(\u001b[0m\u001b[0mself\u001b[0m\u001b[0;34m)\u001b[0m\u001b[0;34m:\u001b[0m\u001b[0;34m\u001b[0m\u001b[0;34m\u001b[0m\u001b[0m\n",
            "\u001b[0;31mNotFoundError\u001b[0m: /content/drive/My Drive/pix2pix/in/ls: cannot open directory '/content/drive/My Drive/pix2pix/in': Input/output error; No such file or directory\n\t [[{{node ReadFile}}]]"
          ]
        }
      ]
    }
  ]
}