{
  "nbformat": 4,
  "nbformat_minor": 0,
  "metadata": {
    "colab": {
      "name": "IA Notebook - Pix2Pix",
      "provenance": [],
      "collapsed_sections": [],
      "toc_visible": true,
      "mount_file_id": "1tX3ooGSqy_IF9GOMG7x7PzQZLqwM0mdG",
      "authorship_tag": "ABX9TyN++CSN+rnDncDZjiDDRt5o",
      "include_colab_link": true
    },
    "kernelspec": {
      "name": "python3",
      "display_name": "Python 3"
    }
  },
  "cells": [
    {
      "cell_type": "markdown",
      "metadata": {
        "id": "view-in-github",
        "colab_type": "text"
      },
      "source": [
        "<a href=\"https://colab.research.google.com/github/ftorres-10cero/Google-Colab-IA-Pix2Pix/blob/dev/IA_Notebook_Pix2Pix.ipynb\" target=\"_parent\"><img src=\"https://colab.research.google.com/assets/colab-badge.svg\" alt=\"Open In Colab\"/></a>"
      ]
    },
    {
      "cell_type": "markdown",
      "metadata": {
        "id": "8XtcqUAizL5q",
        "colab_type": "text"
      },
      "source": [
        "## Tutorial Dot CSV Pix2Pix con TensorFlow 2.0\n",
        "# https://www.youtube.com/watch?v=YsrMGcgfETY&t=1572s"
      ]
    },
    {
      "cell_type": "markdown",
      "metadata": {
        "id": "uAoaXN0CzIOq",
        "colab_type": "text"
      },
      "source": [
        ""
      ]
    },
    {
      "cell_type": "code",
      "metadata": {
        "id": "JEjz401wniec",
        "colab_type": "code",
        "colab": {}
      },
      "source": [
        "# Activamos la versión de tensorflow que vamos a usar: 2.0\n",
        "%tensorflow_version 2.x"
      ],
      "execution_count": 0,
      "outputs": []
    },
    {
      "cell_type": "code",
      "metadata": {
        "id": "jRfB1Bp8dTSG",
        "colab_type": "code",
        "colab": {}
      },
      "source": [
        "# Realizamos las importaciones de librerias y declaramos las variables a usar\n",
        "\n",
        "import tensorflow as tf\n",
        "import matplotlib.pyplot as plt\n",
        "import numpy as np\n",
        "\n",
        "\n",
        "PATH = \"/content/drive/My Drive/pix2pix\"\n",
        "\n",
        "# Ruta de datos de entrada\n",
        "INPATH = PATH + '/in'\n",
        "# Ruta de datos de salida\n",
        "OUTPATH = PATH + '/out'\n",
        "# RUTA de los checkpoints\n",
        "CKPATTH = PATH + '/checkpoints'\n",
        "\n",
        "imgurls = !ls -1 \"{INPATH}\"\n",
        "\n",
        "n = 500\n",
        "train_n = round(n * 0.80)\n",
        "\n",
        "# Listado randomizado\n",
        "randurls = np.copy(imgurls)\n",
        "\n",
        "np.random.seed(23)\n",
        "np.random.shuffle(randurls)\n",
        "\n",
        "# Partición train/test\n",
        "\n",
        "tr_urls = randurls[:train_n]\n",
        "ts_urls = randurls[train_n:n]\n",
        "\n",
        "## print(len(imgurls), len(tr_urls), len(ts_urls))"
      ],
      "execution_count": 0,
      "outputs": []
    },
    {
      "cell_type": "code",
      "metadata": {
        "id": "gD2JEaiYixxd",
        "colab_type": "code",
        "colab": {}
      },
      "source": [
        "# Declaramos las constantes que vamos a usar y definimos las funciones básicas\n",
        "\n",
        "IMG_WIDTH = 256\n",
        "IMG_HEIGHT = 256\n",
        "\n",
        "# Reescalar imágenes\n",
        "def resize(inimg, tgimg, height, width):\n",
        "\n",
        "  inimg = tf.image.resize(inimg, [height, width])\n",
        "  tgimg = tf.image.resize(tgimg, [height, width])\n",
        "\n",
        "  return inimg, tgimg\n",
        "\n",
        "# Normaliza el rango [-1, +1] la imagen\n",
        "def normalize(inimg, tgimg):\n",
        "  inimg = (inimg / 127.5) - 1\n",
        "  tgimg = (tgimg / 127.5) - 1\n",
        "\n",
        "  return inimg, tgimg\n",
        "\n",
        "# Aumentacion de datos : Rasdom Crop + Flip\n",
        "def random_jitter(inimg, tgimg):\n",
        "\n",
        "  inimg, tgimg = resize(inimg, tgimg, 286, 286)\n",
        "\n",
        "  stacked_image = tf.stack([inimg, tgimg], axis=0)\n",
        "  cropped_image = tf.image.random_crop(stacked_image, size=[2, IMG_HEIGHT, IMG_WIDTH,3])\n",
        "\n",
        "  inimg, tgimg = cropped_image[0], cropped_image[1]\n",
        "\n",
        "  if tf.random.uniform(()) > 0.5:\n",
        "\n",
        "    inimg = tf.image.flip_left_right(inimg)\n",
        "    tgimg = tf.image.flip_left_right(tgimg)\n",
        "\n",
        "  return inimg, tgimg  \n",
        "\n",
        "# Carga de imagenes\n",
        "def load_image(filename, augment=False):\n",
        "\n",
        "  inimg = tf.cast(tf.image.decode_jpeg(tf.io.read_file(INPATH + '/' + filename)), tf.float32)[..., :3]\n",
        "  tgimg = tf.cast(tf.image.decode_jpeg(tf.io.read_file(OUTPATH + '/' + filename)), tf.float32)[..., :3]  \n",
        "\n",
        "  inimg, tgimg = resize(inimg, tgimg, IMG_HEIGHT, IMG_WIDTH)\n",
        "\n",
        "  if augment:\n",
        "    inimg, tgimg = random_jitter(inimg, tgimg)\n",
        "\n",
        "  inimg, tgimg = normalize(inimg, tgimg)\n",
        "\n",
        "  return inimg, tgimg\n",
        "\n",
        "\n",
        "def load_train_image(filename):\n",
        "  return load_image(filename, True)\n",
        "\n",
        "def load_test_image(filename):\n",
        "  return load_image(filename, False)\n",
        "\n",
        "# Vemos la primera imagen del listado para ver que todo va bien\n",
        "## plt.imshow(load_train_image(randurls[0])[0]+1/2)"
      ],
      "execution_count": 0,
      "outputs": []
    },
    {
      "cell_type": "code",
      "metadata": {
        "id": "N8I_lrQQpHIp",
        "colab_type": "code",
        "colab": {}
      },
      "source": [
        "# Cargamos los dataset con los listados de imágenes de entrenamiento y test\n",
        "\n",
        "train_dataset = tf.data.Dataset.from_tensor_slices(tr_urls)\n",
        "train_dataset = train_dataset.map(load_train_image, num_parallel_calls =tf.data.experimental.AUTOTUNE)\n",
        "train_dataset = train_dataset.batch(1)\n",
        "\n",
        "# Visualización de lotes de imágenes\n",
        "##for inimg, tgimg in train_dataset.take(5):\n",
        "##  print(tgimg.shape)\n",
        "##  plt.imshow(((tgimg[0,...])+1)/2)\n",
        "##  plt.show()\n",
        "\n",
        "test_dataset = tf.data.Dataset.from_tensor_slices(tr_urls)\n",
        "test_dataset = train_dataset.map(load_test_image, num_parallel_calls =tf.data.experimental.AUTOTUNE)\n",
        "test_dataset = train_dataset.batch(1)\n"
      ],
      "execution_count": 0,
      "outputs": []
    },
    {
      "cell_type": "code",
      "metadata": {
        "id": "M-bqw-k3rUey",
        "colab_type": "code",
        "colab": {}
      },
      "source": [
        "# DISEÑO PIX2PIX\n",
        "\n"
      ],
      "execution_count": 0,
      "outputs": []
    }
  ]
}